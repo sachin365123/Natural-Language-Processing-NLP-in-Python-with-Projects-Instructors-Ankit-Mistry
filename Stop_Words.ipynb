{
  "nbformat": 4,
  "nbformat_minor": 0,
  "metadata": {
    "colab": {
      "provenance": []
    },
    "kernelspec": {
      "name": "python3",
      "display_name": "Python 3"
    }
  },
  "cells": [
    {
      "cell_type": "markdown",
      "metadata": {
        "id": "CRMYm2UDRfTt"
      },
      "source": [
        "# Stop Words"
      ]
    },
    {
      "cell_type": "markdown",
      "metadata": {
        "id": "-p5d64tdTE5b"
      },
      "source": [
        "a  an the always"
      ]
    },
    {
      "cell_type": "code",
      "metadata": {
        "id": "9zfxBXEsRiGr"
      },
      "source": [
        "import spacy\n",
        "nlp = spacy.load('en_core_web_sm')"
      ],
      "execution_count": null,
      "outputs": []
    },
    {
      "cell_type": "code",
      "metadata": {
        "id": "GnRcM72bTRR0",
        "colab": {
          "base_uri": "https://localhost:8080/",
          "height": 55
        },
        "outputId": "992b3ed7-bfc3-498a-de4f-adc6864a7c22"
      },
      "source": [
        "print(nlp.Defaults.stop_words)"
      ],
      "execution_count": null,
      "outputs": [
        {
          "output_type": "stream",
          "text": [
            "{'no', '‘ve', 'nobody', 'has', 'still', 'elsewhere', 'latterly', 'sometime', 'see', 'that', 'though', 'because', \"'ll\", 'while', 'never', 'move', 'thereupon', 'his', 'already', 'although', '’ve', 'neither', 'put', 'an', 'onto', 'yours', 'except', 'beforehand', 'full', 'into', 'most', 'therefore', 'was', 'whole', 'if', 'even', \"'s\", 'did', 'used', 'first', 'nine', 'cannot', 'against', 'front', 'make', 'beside', 'these', 'rather', 'n‘t', 'thence', 'hers', 'regarding', 'would', 'once', 'whenever', 'myself', 'ours', '’d', 'anything', 'which', 'former', '‘d', '‘ll', 'now', 'eleven', 'seems', 'almost', 'hence', 'she', 'whither', 'due', \"'m\", 'wherever', 'next', 'this', 'top', 'nevertheless', 'again', 'afterwards', 'than', 'me', 'two', 'moreover', 'everyone', 'anywhere', 'but', 'those', 'therein', 'what', 'becomes', 'where', 'being', 'whose', 'among', 'whereafter', 'whoever', 'sometimes', 'give', 'have', 'is', 'we', 'they', 'anyhow', 'and', 'whereby', 'get', 'himself', 'more', 'yet', 'for', 'done', 'six', 'under', 'mine', \"'d\", 'along', 'over', 'had', 'fifteen', 'others', 'seem', 'whereupon', 'either', 'else', 'the', 'whatever', 'both', 'just', 'forty', 'only', 'otherwise', 'some', 'someone', 'too', 'via', '’ll', '’m', 'them', \"n't\", 'must', 'upon', 'thus', '’s', 'hereupon', 'our', 'above', 're', 'really', 'several', '‘s', 'towards', 'might', 'hereby', 'amount', 'in', 'mostly', 'ever', 'using', 'does', 'between', 'somehow', 'call', 'yourself', \"'re\", '‘re', 'throughout', 'least', 'each', 'ourselves', 'often', 'after', 'since', 'below', 'herself', 'besides', 'third', 'up', 'not', 'alone', 'become', 'down', 'meanwhile', 'sixty', 'also', 'themselves', 'hereafter', 'were', 'beyond', 'few', 'such', 'less', 'seemed', 'three', 'own', 'everything', 'together', 'may', 'are', 'as', 'their', 'my', 'through', 'wherein', 'so', 'about', 'empty', 'itself', 'doing', 'it', 'take', 'indeed', 'do', 'namely', 'there', 'unless', 'your', 'twelve', 'back', 'say', 'part', 'toward', 'various', 'could', 'of', 'very', 'off', 'at', 'her', 'latter', 'keep', 'why', 'whence', 'same', 'before', 'everywhere', 'much', 'go', 'becoming', 'then', 'you', 'when', 'anyway', 'bottom', 'enough', 'name', 'to', 'all', 'thereafter', 'nor', 'became', 'formerly', 'out', 'until', 'ten', 'within', 'or', 'with', 'he', 'on', 'its', 'n’t', 'who', 'twenty', 'serious', 'whom', 'herein', 'behind', 'him', 'one', 'many', 'quite', 'other', 'am', 'ca', 'yourselves', 'anyone', 'across', 'how', 'eight', 'perhaps', 'always', 'from', 'here', 'thereby', '’re', 'last', 'every', 'should', 'none', 'noone', 'around', 'can', 'whereas', 'show', '‘m', 'been', 'by', 'any', 'be', 'during', 'something', \"'ve\", 'i', 'amongst', 'fifty', 'four', 'five', 'hundred', 'nothing', 'please', 'side', 'us', 'however', 'made', 'seeming', 'somewhere', 'thru', 'another', 'further', 'per', 'well', 'will', 'whether', 'nowhere', 'a', 'without'}\n"
          ],
          "name": "stdout"
        }
      ]
    },
    {
      "cell_type": "code",
      "metadata": {
        "id": "xo-ylHqOTiO7",
        "colab": {
          "base_uri": "https://localhost:8080/",
          "height": 35
        },
        "outputId": "d2d8acfd-9726-4a96-ceb5-2df7c211781f"
      },
      "source": [
        "len(nlp.Defaults.stop_words)"
      ],
      "execution_count": null,
      "outputs": [
        {
          "output_type": "execute_result",
          "data": {
            "text/plain": [
              "326"
            ]
          },
          "metadata": {
            "tags": []
          },
          "execution_count": 3
        }
      ]
    },
    {
      "cell_type": "code",
      "metadata": {
        "id": "pQZccbbFTk0L",
        "colab": {
          "base_uri": "https://localhost:8080/",
          "height": 35
        },
        "outputId": "b0b97963-ca86-4993-b2fe-76a7bb0f0830"
      },
      "source": [
        "nlp.vocab['always'].is_stop"
      ],
      "execution_count": null,
      "outputs": [
        {
          "output_type": "execute_result",
          "data": {
            "text/plain": [
              "True"
            ]
          },
          "metadata": {
            "tags": []
          },
          "execution_count": 4
        }
      ]
    },
    {
      "cell_type": "code",
      "metadata": {
        "id": "pGwvPQlrTyC9",
        "colab": {
          "base_uri": "https://localhost:8080/",
          "height": 35
        },
        "outputId": "221cf9e0-707d-4a81-b128-99eb1ffaa488"
      },
      "source": [
        "nlp.vocab['finance'].is_stop"
      ],
      "execution_count": null,
      "outputs": [
        {
          "output_type": "execute_result",
          "data": {
            "text/plain": [
              "False"
            ]
          },
          "metadata": {
            "tags": []
          },
          "execution_count": 5
        }
      ]
    },
    {
      "cell_type": "code",
      "metadata": {
        "id": "7ZryPuPRT-e0",
        "colab": {
          "base_uri": "https://localhost:8080/",
          "height": 35
        },
        "outputId": "32fcfd7c-8f30-45a8-9436-85d66d5893a1"
      },
      "source": [
        "nlp.vocab['asdf'].is_stop"
      ],
      "execution_count": null,
      "outputs": [
        {
          "output_type": "execute_result",
          "data": {
            "text/plain": [
              "False"
            ]
          },
          "metadata": {
            "tags": []
          },
          "execution_count": 6
        }
      ]
    },
    {
      "cell_type": "code",
      "metadata": {
        "id": "aonS0B_5UNDz"
      },
      "source": [],
      "execution_count": null,
      "outputs": []
    },
    {
      "cell_type": "code",
      "metadata": {
        "id": "Hd5h5maRUFvK"
      },
      "source": [
        "nlp.Defaults.stop_words.add('asdf')"
      ],
      "execution_count": null,
      "outputs": []
    },
    {
      "cell_type": "code",
      "metadata": {
        "id": "iI6pFztKUNsu"
      },
      "source": [
        "nlp.vocab['asdf'].is_stop = True"
      ],
      "execution_count": null,
      "outputs": []
    },
    {
      "cell_type": "code",
      "metadata": {
        "id": "FLI5dsKrUOOL",
        "colab": {
          "base_uri": "https://localhost:8080/",
          "height": 35
        },
        "outputId": "bf38aafa-ae09-4376-bade-48db70edd0fe"
      },
      "source": [
        "nlp.vocab['asdf'].is_stop"
      ],
      "execution_count": null,
      "outputs": [
        {
          "output_type": "execute_result",
          "data": {
            "text/plain": [
              "True"
            ]
          },
          "metadata": {
            "tags": []
          },
          "execution_count": 12
        }
      ]
    },
    {
      "cell_type": "code",
      "metadata": {
        "id": "ozngrq9jUcRX",
        "colab": {
          "base_uri": "https://localhost:8080/",
          "height": 35
        },
        "outputId": "ef2fc8ee-a7fb-4369-db27-a0ad6b80c28c"
      },
      "source": [
        "len(nlp.Defaults.stop_words)"
      ],
      "execution_count": null,
      "outputs": [
        {
          "output_type": "execute_result",
          "data": {
            "text/plain": [
              "327"
            ]
          },
          "metadata": {
            "tags": []
          },
          "execution_count": 13
        }
      ]
    },
    {
      "cell_type": "code",
      "metadata": {
        "id": "uoe7PvJaUdO8",
        "colab": {
          "base_uri": "https://localhost:8080/",
          "height": 35
        },
        "outputId": "98dc9b1d-9318-4e01-b007-8ac860bafd1d"
      },
      "source": [
        "nlp.vocab['no'].is_stop"
      ],
      "execution_count": null,
      "outputs": [
        {
          "output_type": "execute_result",
          "data": {
            "text/plain": [
              "True"
            ]
          },
          "metadata": {
            "tags": []
          },
          "execution_count": 15
        }
      ]
    },
    {
      "cell_type": "code",
      "metadata": {
        "id": "xwm_kPPqUmyc"
      },
      "source": [
        "nlp.vocab['no'].is_stop = False"
      ],
      "execution_count": null,
      "outputs": []
    },
    {
      "cell_type": "code",
      "metadata": {
        "id": "KPGtkBBCUrYs",
        "colab": {
          "base_uri": "https://localhost:8080/",
          "height": 55
        },
        "outputId": "c426d8fd-df71-434a-b5bf-8863df44fb09"
      },
      "source": [
        "print(nlp.Defaults.stop_words)"
      ],
      "execution_count": null,
      "outputs": [
        {
          "output_type": "stream",
          "text": [
            "{'no', '‘ve', 'asdf', 'nobody', 'has', 'still', 'elsewhere', 'latterly', 'sometime', 'see', 'that', 'though', 'because', \"'ll\", 'while', 'never', 'move', 'thereupon', 'his', 'already', 'although', '’ve', 'neither', 'put', 'an', 'onto', 'yours', 'except', 'beforehand', 'full', 'into', 'most', 'therefore', 'was', 'whole', 'if', 'even', \"'s\", 'did', 'used', 'first', 'nine', 'cannot', 'against', 'front', 'make', 'beside', 'these', 'rather', 'n‘t', 'thence', 'hers', 'regarding', 'would', 'once', 'whenever', 'myself', 'ours', '’d', 'anything', 'which', 'former', '‘d', '‘ll', 'now', 'eleven', 'seems', 'almost', 'hence', 'she', 'whither', 'due', \"'m\", 'wherever', 'next', 'this', 'top', 'nevertheless', 'again', 'afterwards', 'than', 'me', 'two', 'moreover', 'everyone', 'anywhere', 'but', 'those', 'therein', 'what', 'becomes', 'where', 'being', 'whose', 'among', 'whereafter', 'whoever', 'sometimes', 'give', 'have', 'is', 'we', 'they', 'anyhow', 'and', 'whereby', 'get', 'himself', 'more', 'yet', 'for', 'done', 'six', 'under', 'mine', \"'d\", 'along', 'over', 'had', 'fifteen', 'others', 'seem', 'whereupon', 'either', 'else', 'the', 'whatever', 'both', 'just', 'forty', 'only', 'otherwise', 'some', 'someone', 'too', 'via', '’ll', '’m', 'them', \"n't\", 'must', 'upon', 'thus', '’s', 'hereupon', 'our', 'above', 're', 'really', 'several', '‘s', 'towards', 'might', 'hereby', 'amount', 'in', 'mostly', 'ever', 'using', 'does', 'between', 'somehow', 'call', 'yourself', \"'re\", '‘re', 'throughout', 'least', 'each', 'ourselves', 'often', 'after', 'since', 'below', 'herself', 'besides', 'third', 'up', 'not', 'alone', 'become', 'down', 'meanwhile', 'sixty', 'also', 'themselves', 'hereafter', 'were', 'beyond', 'few', 'such', 'less', 'seemed', 'three', 'own', 'everything', 'together', 'may', 'are', 'as', 'their', 'my', 'through', 'wherein', 'so', 'about', 'empty', 'itself', 'doing', 'it', 'take', 'indeed', 'do', 'namely', 'there', 'unless', 'your', 'twelve', 'back', 'say', 'part', 'toward', 'various', 'could', 'of', 'very', 'off', 'at', 'her', 'latter', 'keep', 'why', 'whence', 'same', 'before', 'everywhere', 'much', 'go', 'becoming', 'then', 'you', 'when', 'anyway', 'bottom', 'enough', 'name', 'to', 'all', 'thereafter', 'nor', 'became', 'formerly', 'out', 'until', 'ten', 'within', 'or', 'with', 'he', 'on', 'its', 'n’t', 'who', 'twenty', 'serious', 'whom', 'herein', 'behind', 'him', 'one', 'many', 'quite', 'other', 'am', 'ca', 'yourselves', 'anyone', 'across', 'how', 'eight', 'perhaps', 'always', 'from', 'here', 'thereby', '’re', 'last', 'every', 'should', 'none', 'noone', 'around', 'can', 'whereas', 'show', '‘m', 'been', 'by', 'any', 'be', 'during', 'something', \"'ve\", 'i', 'amongst', 'fifty', 'four', 'five', 'hundred', 'nothing', 'please', 'side', 'us', 'however', 'made', 'seeming', 'somewhere', 'thru', 'another', 'further', 'per', 'well', 'will', 'whether', 'nowhere', 'a', 'without'}\n"
          ],
          "name": "stdout"
        }
      ]
    },
    {
      "cell_type": "code",
      "metadata": {
        "id": "wWREkPBlUvGk"
      },
      "source": [
        "nlp.Defaults.stop_words.remove('no')"
      ],
      "execution_count": null,
      "outputs": []
    },
    {
      "cell_type": "code",
      "metadata": {
        "id": "KAVAQK-JU9yU"
      },
      "source": [
        "nlp.vocab['no'].is_stop = False"
      ],
      "execution_count": null,
      "outputs": []
    },
    {
      "cell_type": "code",
      "metadata": {
        "id": "EL5nd6vJU_us",
        "colab": {
          "base_uri": "https://localhost:8080/",
          "height": 55
        },
        "outputId": "abc9e0b7-f05b-43a6-eebe-0c0f7a388188"
      },
      "source": [
        "print(nlp.Defaults.stop_words)"
      ],
      "execution_count": null,
      "outputs": [
        {
          "output_type": "stream",
          "text": [
            "{'‘ve', 'asdf', 'nobody', 'has', 'still', 'elsewhere', 'latterly', 'sometime', 'see', 'that', 'though', 'because', \"'ll\", 'while', 'never', 'move', 'thereupon', 'his', 'already', 'although', '’ve', 'neither', 'put', 'an', 'onto', 'yours', 'except', 'beforehand', 'full', 'into', 'most', 'therefore', 'was', 'whole', 'if', 'even', \"'s\", 'did', 'used', 'first', 'nine', 'cannot', 'against', 'front', 'make', 'beside', 'these', 'rather', 'n‘t', 'thence', 'hers', 'regarding', 'would', 'once', 'whenever', 'myself', 'ours', '’d', 'anything', 'which', 'former', '‘d', '‘ll', 'now', 'eleven', 'seems', 'almost', 'hence', 'she', 'whither', 'due', \"'m\", 'wherever', 'next', 'this', 'top', 'nevertheless', 'again', 'afterwards', 'than', 'me', 'two', 'moreover', 'everyone', 'anywhere', 'but', 'those', 'therein', 'what', 'becomes', 'where', 'being', 'whose', 'among', 'whereafter', 'whoever', 'sometimes', 'give', 'have', 'is', 'we', 'they', 'anyhow', 'and', 'whereby', 'get', 'himself', 'more', 'yet', 'for', 'done', 'six', 'under', 'mine', \"'d\", 'along', 'over', 'had', 'fifteen', 'others', 'seem', 'whereupon', 'either', 'else', 'the', 'whatever', 'both', 'just', 'forty', 'only', 'otherwise', 'some', 'someone', 'too', 'via', '’ll', '’m', 'them', \"n't\", 'must', 'upon', 'thus', '’s', 'hereupon', 'our', 'above', 're', 'really', 'several', '‘s', 'towards', 'might', 'hereby', 'amount', 'in', 'mostly', 'ever', 'using', 'does', 'between', 'somehow', 'call', 'yourself', \"'re\", '‘re', 'throughout', 'least', 'each', 'ourselves', 'often', 'after', 'since', 'below', 'herself', 'besides', 'third', 'up', 'not', 'alone', 'become', 'down', 'meanwhile', 'sixty', 'also', 'themselves', 'hereafter', 'were', 'beyond', 'few', 'such', 'less', 'seemed', 'three', 'own', 'everything', 'together', 'may', 'are', 'as', 'their', 'my', 'through', 'wherein', 'so', 'about', 'empty', 'itself', 'doing', 'it', 'take', 'indeed', 'do', 'namely', 'there', 'unless', 'your', 'twelve', 'back', 'say', 'part', 'toward', 'various', 'could', 'of', 'very', 'off', 'at', 'her', 'latter', 'keep', 'why', 'whence', 'same', 'before', 'everywhere', 'much', 'go', 'becoming', 'then', 'you', 'when', 'anyway', 'bottom', 'enough', 'name', 'to', 'all', 'thereafter', 'nor', 'became', 'formerly', 'out', 'until', 'ten', 'within', 'or', 'with', 'he', 'on', 'its', 'n’t', 'who', 'twenty', 'serious', 'whom', 'herein', 'behind', 'him', 'one', 'many', 'quite', 'other', 'am', 'ca', 'yourselves', 'anyone', 'across', 'how', 'eight', 'perhaps', 'always', 'from', 'here', 'thereby', '’re', 'last', 'every', 'should', 'none', 'noone', 'around', 'can', 'whereas', 'show', '‘m', 'been', 'by', 'any', 'be', 'during', 'something', \"'ve\", 'i', 'amongst', 'fifty', 'four', 'five', 'hundred', 'nothing', 'please', 'side', 'us', 'however', 'made', 'seeming', 'somewhere', 'thru', 'another', 'further', 'per', 'well', 'will', 'whether', 'nowhere', 'a', 'without'}\n"
          ],
          "name": "stdout"
        }
      ]
    },
    {
      "cell_type": "code",
      "metadata": {
        "id": "3Wsmnb24VBRL"
      },
      "source": [],
      "execution_count": null,
      "outputs": []
    }
  ]
}