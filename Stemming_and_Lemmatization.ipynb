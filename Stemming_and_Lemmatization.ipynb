{
  "nbformat": 4,
  "nbformat_minor": 0,
  "metadata": {
    "colab": {
      "provenance": []
    },
    "kernelspec": {
      "name": "python3",
      "display_name": "Python 3"
    }
  },
  "cells": [
    {
      "cell_type": "markdown",
      "metadata": {
        "id": "TNcphyUxXvow"
      },
      "source": [
        "## Stemming and Lemmatization"
      ]
    },
    {
      "cell_type": "code",
      "metadata": {
        "id": "JC6TSV87hS8Y"
      },
      "source": [],
      "execution_count": null,
      "outputs": []
    },
    {
      "cell_type": "markdown",
      "metadata": {
        "id": "f3IuWkK0hTYv"
      },
      "source": [
        "Playing\n",
        "Play   \n",
        "Played\n",
        "\n",
        "=> Play"
      ]
    },
    {
      "cell_type": "code",
      "metadata": {
        "id": "HTx_Asm6XwsV"
      },
      "source": [
        "words = ['run','runner','running','ran','runs','easily','fairly']"
      ],
      "execution_count": null,
      "outputs": []
    },
    {
      "cell_type": "code",
      "metadata": {
        "id": "3uQQZyfRh5cG"
      },
      "source": [
        "import nltk"
      ],
      "execution_count": null,
      "outputs": []
    },
    {
      "cell_type": "code",
      "metadata": {
        "id": "8wpXkqgFh9le"
      },
      "source": [
        "from nltk.stem.porter import PorterStemmer\n",
        "from nltk.stem.snowball import  SnowballStemmer"
      ],
      "execution_count": null,
      "outputs": []
    },
    {
      "cell_type": "code",
      "metadata": {
        "id": "WaiuXm4NiOw1"
      },
      "source": [
        "p_stemmer = PorterStemmer()\n",
        "s_stemmer = SnowballStemmer(language='english')"
      ],
      "execution_count": null,
      "outputs": []
    },
    {
      "cell_type": "code",
      "metadata": {
        "id": "mjAS8rxtieiW",
        "colab": {
          "base_uri": "https://localhost:8080/",
          "height": 142
        },
        "outputId": "4d832ecf-3c81-4193-f130-98eb79f877de"
      },
      "source": [
        "for word in words:\n",
        "  print(word + ' ------  ' +p_stemmer.stem(word))"
      ],
      "execution_count": null,
      "outputs": [
        {
          "output_type": "stream",
          "text": [
            "run ------  run\n",
            "runner ------  runner\n",
            "running ------  run\n",
            "ran ------  ran\n",
            "runs ------  run\n",
            "easily ------  easili\n",
            "fairly ------  fairli\n"
          ],
          "name": "stdout"
        }
      ]
    },
    {
      "cell_type": "code",
      "metadata": {
        "id": "t7nMUaiSi2AO",
        "colab": {
          "base_uri": "https://localhost:8080/",
          "height": 142
        },
        "outputId": "1804c577-8126-47cf-dbbd-70c9bc42b98c"
      },
      "source": [
        "for word in words:\n",
        "  print(word + ' ------  ' +s_stemmer.stem(word))"
      ],
      "execution_count": null,
      "outputs": [
        {
          "output_type": "stream",
          "text": [
            "run ------  run\n",
            "runner ------  runner\n",
            "running ------  run\n",
            "ran ------  ran\n",
            "runs ------  run\n",
            "easily ------  easili\n",
            "fairly ------  fair\n"
          ],
          "name": "stdout"
        }
      ]
    },
    {
      "cell_type": "markdown",
      "metadata": {
        "id": "qGBsewbcjKF3"
      },
      "source": [
        "### Lemmatization"
      ]
    },
    {
      "cell_type": "code",
      "metadata": {
        "id": "uHIVmMBSjNCo"
      },
      "source": [
        "import spacy\n",
        "nlp = spacy.load('en_core_web_sm')"
      ],
      "execution_count": null,
      "outputs": []
    },
    {
      "cell_type": "code",
      "metadata": {
        "id": "rVdCgJRtjQoW"
      },
      "source": [
        "doc1 = nlp(\"The striped bats are hanging on their feet for best\")"
      ],
      "execution_count": null,
      "outputs": []
    },
    {
      "cell_type": "code",
      "metadata": {
        "id": "6h7EcdHSjkMX",
        "colab": {
          "base_uri": "https://localhost:8080/",
          "height": 196
        },
        "outputId": "32e05c0b-d04f-45bd-a06a-af44b806d8c5"
      },
      "source": [
        "for token in doc1:\n",
        "  print(token.text, '\\t', token.lemma_)"
      ],
      "execution_count": null,
      "outputs": [
        {
          "output_type": "stream",
          "text": [
            "The \t the\n",
            "striped \t stripe\n",
            "bats \t bat\n",
            "are \t be\n",
            "hanging \t hang\n",
            "on \t on\n",
            "their \t -PRON-\n",
            "feet \t foot\n",
            "for \t for\n",
            "best \t good\n"
          ],
          "name": "stdout"
        }
      ]
    },
    {
      "cell_type": "code",
      "metadata": {
        "id": "1j5yTHz0kDIz",
        "colab": {
          "base_uri": "https://localhost:8080/",
          "height": 196
        },
        "outputId": "a426aae5-142d-442d-a73a-6129ba60c210"
      },
      "source": [
        "s1 = \"The striped bats are hanging on their feet for best\"\n",
        "for word in s1.split():\n",
        "  print(word + ' ------  ' +p_stemmer.stem(word))"
      ],
      "execution_count": null,
      "outputs": [
        {
          "output_type": "stream",
          "text": [
            "The ------  the\n",
            "striped ------  stripe\n",
            "bats ------  bat\n",
            "are ------  are\n",
            "hanging ------  hang\n",
            "on ------  on\n",
            "their ------  their\n",
            "feet ------  feet\n",
            "for ------  for\n",
            "best ------  best\n"
          ],
          "name": "stdout"
        }
      ]
    }
  ]
}